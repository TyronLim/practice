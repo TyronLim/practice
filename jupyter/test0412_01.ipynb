{
 "cells": [
  {
   "cell_type": "code",
   "execution_count": 1,
   "metadata": {},
   "outputs": [
    {
     "name": "stdout",
     "output_type": "stream",
     "text": [
      "Name: gym\n",
      "Version: 0.26.2\n",
      "Summary: Gym: A universal API for reinforcement learning environments\n",
      "Home-page: https://www.gymlibrary.dev/\n",
      "Author: Gym Community\n",
      "Author-email: jkterry@umd.edu\n",
      "License: MIT\n",
      "Location: C:\\Users\\Tyron\\anaconda3\\Lib\\site-packages\n",
      "Requires: cloudpickle, gym-notices, numpy\n",
      "Required-by: nes-py\n"
     ]
    }
   ],
   "source": [
    "!pip show gym"
   ]
  },
  {
   "cell_type": "code",
   "execution_count": 5,
   "metadata": {},
   "outputs": [
    {
     "name": "stderr",
     "output_type": "stream",
     "text": [
      "'sys.path.append'��(��) ���� �Ǵ� �ܺ� ����, ������ �� �ִ� ���α׷�, �Ǵ�\n",
      "��ġ ������ �ƴմϴ�.\n"
     ]
    }
   ],
   "source": [
    "!sys.path.append(\"C:\\Users\\Tyron\\anaconda3\\Lib\\site-packages)\""
   ]
  }
 ],
 "metadata": {
  "kernelspec": {
   "display_name": "base",
   "language": "python",
   "name": "python3"
  },
  "language_info": {
   "codemirror_mode": {
    "name": "ipython",
    "version": 3
   },
   "file_extension": ".py",
   "mimetype": "text/x-python",
   "name": "python",
   "nbconvert_exporter": "python",
   "pygments_lexer": "ipython3",
   "version": "3.11.7"
  }
 },
 "nbformat": 4,
 "nbformat_minor": 2
}
