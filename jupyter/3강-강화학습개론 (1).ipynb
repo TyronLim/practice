{
 "cells": [
  {
   "cell_type": "markdown",
   "id": "553078ed-eb92-4441-83ef-5077d60950b0",
   "metadata": {},
   "source": [
    "# 3강 : 강화학습 개론 \n",
    "Credit by 정원석 ( Jay Wonseok Jung ) 대우교수 - 서울사이버대학교\n",
    "\n",
    "슈퍼 마리오 브라더스, 마리오 인공지능을 만들어보요! 이 튜토리얼에서는 슈퍼 마리오 브라더스 게임 환경을 생성하고, 마리오가 무작위로 행동하는 모습을 확인할 수 있습니다.\n",
    "강화학습으로 똑똑한 인공지능을 만들기 위한 기초작업 입니다 :) \n",
    "\n",
    "\n"
   ]
  },
  {
   "cell_type": "markdown",
   "id": "61c856be-ac06-4cc6-8bbc-76e95ac82252",
   "metadata": {},
   "source": [
    "\n",
    "# 1.Step 1 설치\n",
    "\n",
    "필요한 라이브러리 설치\n",
    "주피터 노트북에서는 `!`를 사용하여 터미널 명령을 실행할 수 있습니다."
   ]
  },
  {
   "cell_type": "code",
   "execution_count": 1,
   "id": "016a4759-9133-4aeb-96a4-80236635dcbb",
   "metadata": {},
   "outputs": [
    {
     "name": "stdout",
     "output_type": "stream",
     "text": [
      "Requirement already satisfied: gym in c:\\users\\tyron\\anaconda3\\lib\\site-packages (0.26.2)\n",
      "Requirement already satisfied: numpy>=1.18.0 in c:\\users\\tyron\\anaconda3\\lib\\site-packages (from gym) (1.26.4)\n",
      "Requirement already satisfied: cloudpickle>=1.2.0 in c:\\users\\tyron\\anaconda3\\lib\\site-packages (from gym) (2.2.1)\n",
      "Requirement already satisfied: gym-notices>=0.0.4 in c:\\users\\tyron\\anaconda3\\lib\\site-packages (from gym) (0.0.8)\n",
      "Collecting gym_super_mario_bros\n",
      "  Using cached gym_super_mario_bros-7.4.0-py3-none-any.whl.metadata (10 kB)\n",
      "Collecting nes_py\n",
      "  Using cached nes_py-8.2.1.tar.gz (77 kB)\n",
      "  Preparing metadata (setup.py): started\n",
      "  Preparing metadata (setup.py): finished with status 'done'\n",
      "Requirement already satisfied: gym>=0.17.2 in c:\\users\\tyron\\anaconda3\\lib\\site-packages (from nes_py) (0.26.2)\n",
      "Requirement already satisfied: numpy>=1.18.5 in c:\\users\\tyron\\anaconda3\\lib\\site-packages (from nes_py) (1.26.4)\n",
      "Collecting pyglet<=1.5.21,>=1.4.0 (from nes_py)\n",
      "  Using cached pyglet-1.5.21-py3-none-any.whl.metadata (7.6 kB)\n",
      "Requirement already satisfied: tqdm>=4.48.2 in c:\\users\\tyron\\anaconda3\\lib\\site-packages (from nes_py) (4.65.0)\n",
      "Requirement already satisfied: cloudpickle>=1.2.0 in c:\\users\\tyron\\anaconda3\\lib\\site-packages (from gym>=0.17.2->nes_py) (2.2.1)\n",
      "Requirement already satisfied: gym-notices>=0.0.4 in c:\\users\\tyron\\anaconda3\\lib\\site-packages (from gym>=0.17.2->nes_py) (0.0.8)\n",
      "Requirement already satisfied: colorama in c:\\users\\tyron\\anaconda3\\lib\\site-packages (from tqdm>=4.48.2->nes_py) (0.4.6)\n",
      "Using cached gym_super_mario_bros-7.4.0-py3-none-any.whl (199 kB)\n",
      "Using cached pyglet-1.5.21-py3-none-any.whl (1.1 MB)\n",
      "Building wheels for collected packages: nes_py\n",
      "  Building wheel for nes_py (setup.py): started\n",
      "  Building wheel for nes_py (setup.py): finished with status 'error'\n",
      "  Running setup.py clean for nes_py\n",
      "Failed to build nes_py\n"
     ]
    },
    {
     "name": "stderr",
     "output_type": "stream",
     "text": [
      "  error: subprocess-exited-with-error\n",
      "  \n",
      "  × python setup.py bdist_wheel did not run successfully.\n",
      "  │ exit code: 1\n",
      "  ╰─> [21 lines of output]\n",
      "      running bdist_wheel\n",
      "      running build\n",
      "      running build_py\n",
      "      creating build\n",
      "      creating build\\lib.win-amd64-cpython-311\n",
      "      creating build\\lib.win-amd64-cpython-311\\nes_py\n",
      "      copying nes_py\\nes_env.py -> build\\lib.win-amd64-cpython-311\\nes_py\n",
      "      copying nes_py\\_image_viewer.py -> build\\lib.win-amd64-cpython-311\\nes_py\n",
      "      copying nes_py\\_rom.py -> build\\lib.win-amd64-cpython-311\\nes_py\n",
      "      copying nes_py\\__init__.py -> build\\lib.win-amd64-cpython-311\\nes_py\n",
      "      creating build\\lib.win-amd64-cpython-311\\nes_py\\app\n",
      "      copying nes_py\\app\\cli.py -> build\\lib.win-amd64-cpython-311\\nes_py\\app\n",
      "      copying nes_py\\app\\play_human.py -> build\\lib.win-amd64-cpython-311\\nes_py\\app\n",
      "      copying nes_py\\app\\play_random.py -> build\\lib.win-amd64-cpython-311\\nes_py\\app\n",
      "      copying nes_py\\app\\__init__.py -> build\\lib.win-amd64-cpython-311\\nes_py\\app\n",
      "      creating build\\lib.win-amd64-cpython-311\\nes_py\\wrappers\n",
      "      copying nes_py\\wrappers\\joypad_space.py -> build\\lib.win-amd64-cpython-311\\nes_py\\wrappers\n",
      "      copying nes_py\\wrappers\\__init__.py -> build\\lib.win-amd64-cpython-311\\nes_py\\wrappers\n",
      "      running build_ext\n",
      "      building 'nes_py.lib_nes_env' extension\n",
      "      error: Microsoft Visual C++ 14.0 or greater is required. Get it with \"Microsoft C++ Build Tools\": https://visualstudio.microsoft.com/visual-cpp-build-tools/\n",
      "      [end of output]\n",
      "  \n",
      "  note: This error originates from a subprocess, and is likely not a problem with pip.\n",
      "  ERROR: Failed building wheel for nes_py\n",
      "ERROR: Could not build wheels for nes_py, which is required to install pyproject.toml-based projects\n"
     ]
    },
    {
     "name": "stdout",
     "output_type": "stream",
     "text": [
      "Requirement already satisfied: gym in c:\\users\\tyron\\anaconda3\\lib\\site-packages (0.26.2)\n",
      "Requirement already satisfied: numpy>=1.18.0 in c:\\users\\tyron\\anaconda3\\lib\\site-packages (from gym) (1.26.4)\n",
      "Requirement already satisfied: cloudpickle>=1.2.0 in c:\\users\\tyron\\anaconda3\\lib\\site-packages (from gym) (2.2.1)\n",
      "Requirement already satisfied: gym-notices>=0.0.4 in c:\\users\\tyron\\anaconda3\\lib\\site-packages (from gym) (0.0.8)\n"
     ]
    }
   ],
   "source": [
    "!pip3 install --upgrade gym\n",
    "!pip3 install gym_super_mario_bros nes_py\n",
    "!pip3 install gym"
   ]
  },
  {
   "cell_type": "markdown",
   "id": "fce9474c-0ac6-45a9-a286-ae633d9140d3",
   "metadata": {},
   "source": [
    "# Step 2 필요한 라이브러리 임포트\n",
    "\n",
    "\n",
    "gym: 강화학습 환경을 제공하는 라이브러리\n",
    "gym_super_mario_bros: Super Mario Bros 게임 환경\n",
    "JoypadSpace, SIMPLE_MOVEMENT: 조작과 행동을 단순화하기 위한 도구들"
   ]
  },
  {
   "cell_type": "code",
   "execution_count": 2,
   "id": "a13b88b0-b83e-46ab-b30e-9722d8a09204",
   "metadata": {},
   "outputs": [],
   "source": [
    "from nes_py.wrappers import JoypadSpace\n",
    "import gym_super_mario_bros\n",
    "from gym_super_mario_bros.actions import SIMPLE_MOVEMENT\n",
    "import gym\n"
   ]
  },
  {
   "cell_type": "markdown",
   "id": "735ede76-cfdf-4159-85d3-a2a77d49fa4e",
   "metadata": {},
   "source": [
    "# 3단계: 게임 환경 생성하기"
   ]
  },
  {
   "cell_type": "code",
   "execution_count": 3,
   "id": "5e36e181-7c9f-4820-b45d-6fb96791264d",
   "metadata": {},
   "outputs": [
    {
     "name": "stderr",
     "output_type": "stream",
     "text": [
      "c:\\Users\\Tyron\\anaconda3\\Lib\\site-packages\\gym\\envs\\registration.py:555: UserWarning: \u001b[33mWARN: The environment SuperMarioBros-v0 is out of date. You should consider upgrading to version `v3`.\u001b[0m\n",
      "  logger.warn(\n"
     ]
    }
   ],
   "source": [
    "env = gym_super_mario_bros.make('SuperMarioBros-v0')\n",
    "env = JoypadSpace(env, SIMPLE_MOVEMENT)"
   ]
  },
  {
   "cell_type": "markdown",
   "id": "1f5c27e9-255a-441a-a173-e0409f871b72",
   "metadata": {},
   "source": [
    "# 4단계: 마리오가 무작위로 움직이는 모습 관찰하기"
   ]
  },
  {
   "cell_type": "code",
   "execution_count": 5,
   "id": "9b9bb5bd-6209-4e94-b8c1-a7e9241bf651",
   "metadata": {},
   "outputs": [],
   "source": [
    "\n",
    "env = gym.make('SuperMarioBros-v0', apply_api_compatibility=True, render_mode=\"human\")\n",
    "env = JoypadSpace(env, SIMPLE_MOVEMENT)\n",
    "\n",
    "done = True\n",
    "env.reset()\n",
    "for step in range(1000):\n",
    "    env.render()\n",
    "    action = env.action_space.sample()\n",
    "    obs, reward, terminated, truncated, info = env.step(action)\n",
    "    done = terminated or truncated\n",
    "\n",
    "    if done:\n",
    "       env.reset()\n",
    "\n",
    "env.close()"
   ]
  },
  {
   "cell_type": "markdown",
   "id": "b2b35e91-0a03-44a7-94a5-030f4f03b128",
   "metadata": {},
   "source": [
    "위 코드를 실행하면 마리오가 게임 환경에서 무작위로 움직이는 것을 볼 수 있습니다. 10000번의 스텝 동안 마리오는 다양한 행동을 취하며, 게임이 끝날 때마다 환경이 다시 시작됩니다.\n",
    "\n",
    "여기까지 슈퍼 마리오 브라더스 게임 환경을 만들고, 마리오가 무작위로 움직이는 기본적인 튜토리얼을 마쳤습니다. 다음 시간에는 마리오가 게임에서 더 똑똑하게 행동하는 방법에 대해 배워보도록 하겠습니다. 기대해주세요!"
   ]
  }
 ],
 "metadata": {
  "kernelspec": {
   "display_name": "Python 3 (ipykernel)",
   "language": "python",
   "name": "python3"
  },
  "language_info": {
   "codemirror_mode": {
    "name": "ipython",
    "version": 3
   },
   "file_extension": ".py",
   "mimetype": "text/x-python",
   "name": "python",
   "nbconvert_exporter": "python",
   "pygments_lexer": "ipython3",
   "version": "3.11.7"
  }
 },
 "nbformat": 4,
 "nbformat_minor": 5
}
